{
 "cells": [
  {
   "cell_type": "markdown",
   "id": "58b553ad",
   "metadata": {},
   "source": [
    "# 🧬 P450 生成序列可视化分析\n",
    "\n",
    "使用 Paddle 框架对模型生成的蛋白质序列进行统计分析与可视化。"
   ]
  },
  {
   "cell_type": "code",
   "execution_count": 1,
   "id": "2c425567",
   "metadata": {},
   "outputs": [
    {
     "ename": "ModuleNotFoundError",
     "evalue": "No module named 'paddle'",
     "output_type": "error",
     "traceback": [
      "\u001b[1;31m---------------------------------------------------------------------------\u001b[0m",
      "\u001b[1;31mModuleNotFoundError\u001b[0m                       Traceback (most recent call last)",
      "Cell \u001b[1;32mIn[1], line 1\u001b[0m\n\u001b[1;32m----> 1\u001b[0m \u001b[38;5;28;01mimport\u001b[39;00m \u001b[38;5;21;01mpaddle\u001b[39;00m\n\u001b[0;32m      2\u001b[0m \u001b[38;5;28;01mimport\u001b[39;00m \u001b[38;5;21;01mmatplotlib\u001b[39;00m\u001b[38;5;21;01m.\u001b[39;00m\u001b[38;5;21;01mpyplot\u001b[39;00m \u001b[38;5;28;01mas\u001b[39;00m \u001b[38;5;21;01mplt\u001b[39;00m\n\u001b[0;32m      3\u001b[0m \u001b[38;5;28;01mfrom\u001b[39;00m \u001b[38;5;21;01mcollections\u001b[39;00m \u001b[38;5;28;01mimport\u001b[39;00m Counter\n",
      "\u001b[1;31mModuleNotFoundError\u001b[0m: No module named 'paddle'"
     ]
    }
   ],
   "source": [
    "\n",
    "import paddle\n",
    "import matplotlib.pyplot as plt\n",
    "from collections import Counter\n",
    "\n",
    "# 读取并解析FASTA格式\n",
    "def read_sequences(filepath):\n",
    "    sequences = []\n",
    "    with open(filepath, \"r\") as f:\n",
    "        seq = \"\"\n",
    "        for line in f:\n",
    "            if line.startswith(\">\"):\n",
    "                if seq:\n",
    "                    sequences.append(seq.replace(\"-\", \"\"))\n",
    "                seq = \"\"\n",
    "            else:\n",
    "                seq += line.strip()\n",
    "        if seq:\n",
    "            sequences.append(seq.replace(\"-\", \"\"))\n",
    "    return sequences\n",
    "\n",
    "# 加载生成序列\n",
    "sequences = read_sequences(\"./data/gen_0.fasta\")\n",
    "print(f\"共读取序列数: {len(sequences)}\")\n"
   ]
  },
  {
   "cell_type": "markdown",
   "id": "41de802f",
   "metadata": {},
   "source": [
    "## 📊 序列长度分布"
   ]
  },
  {
   "cell_type": "code",
   "execution_count": null,
   "id": "bbb84b9d",
   "metadata": {},
   "outputs": [],
   "source": [
    "\n",
    "lengths = [len(s) for s in sequences]\n",
    "\n",
    "plt.figure(figsize=(8, 4))\n",
    "plt.hist(lengths, bins=20, color='cornflowerblue', edgecolor='black')\n",
    "plt.title(\"序列长度分布（去除填充符号 '-'）\")\n",
    "plt.xlabel(\"长度\")\n",
    "plt.ylabel(\"数量\")\n",
    "plt.grid(True)\n",
    "plt.tight_layout()\n",
    "plt.show()\n"
   ]
  },
  {
   "cell_type": "markdown",
   "id": "0489999a",
   "metadata": {},
   "source": [
    "## 🔤 氨基酸频率分布"
   ]
  },
  {
   "cell_type": "code",
   "execution_count": null,
   "id": "dd8a1175",
   "metadata": {},
   "outputs": [],
   "source": [
    "\n",
    "aa_counter = Counter(\"\".join(sequences))\n",
    "aa_freq_sorted = dict(sorted(aa_counter.items()))\n",
    "\n",
    "plt.figure(figsize=(10, 4))\n",
    "plt.bar(aa_freq_sorted.keys(), aa_freq_sorted.values(), color='salmon')\n",
    "plt.title(\"氨基酸频率分布\")\n",
    "plt.xlabel(\"氨基酸\")\n",
    "plt.ylabel(\"出现次数\")\n",
    "plt.grid(True)\n",
    "plt.tight_layout()\n",
    "plt.show()\n"
   ]
  }
 ],
 "metadata": {
  "kernelspec": {
   "display_name": "Python 3 (ipykernel)",
   "language": "python",
   "name": "python3"
  },
  "language_info": {
   "codemirror_mode": {
    "name": "ipython",
    "version": 3
   },
   "file_extension": ".py",
   "mimetype": "text/x-python",
   "name": "python",
   "nbconvert_exporter": "python",
   "pygments_lexer": "ipython3",
   "version": "3.9.7"
  }
 },
 "nbformat": 4,
 "nbformat_minor": 5
}
