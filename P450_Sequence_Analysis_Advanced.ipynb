{
 "cells": [
  {
   "cell_type": "markdown",
   "id": "80b3fc97",
   "metadata": {},
   "source": [
    "# 🧬 P450 生成序列可视化分析（含关键残基统计、t-SNE 聚类、比对）"
   ]
  },
  {
   "cell_type": "code",
   "execution_count": null,
   "id": "e752645c",
   "metadata": {},
   "outputs": [],
   "source": [
    "\n",
    "import paddle\n",
    "import matplotlib.pyplot as plt\n",
    "from collections import Counter\n",
    "from sklearn.manifold import TSNE\n",
    "import seaborn as sns\n",
    "import numpy as np\n"
   ]
  },
  {
   "cell_type": "markdown",
   "id": "b0ca74ab",
   "metadata": {},
   "source": [
    "## 📄 读取FASTA序列"
   ]
  },
  {
   "cell_type": "code",
   "execution_count": null,
   "id": "cd07200a",
   "metadata": {},
   "outputs": [],
   "source": [
    "\n",
    "def read_sequences(filepath):\n",
    "    sequences = []\n",
    "    with open(filepath, \"r\") as f:\n",
    "        seq = \"\"\n",
    "        for line in f:\n",
    "            if line.startswith(\">\"):\n",
    "                if seq:\n",
    "                    sequences.append(seq.replace(\"-\", \"\"))\n",
    "                seq = \"\"\n",
    "            else:\n",
    "                seq += line.strip()\n",
    "        if seq:\n",
    "            sequences.append(seq.replace(\"-\", \"\"))\n",
    "    return sequences\n",
    "\n",
    "sequences = read_sequences(\"../data/gen_0.fasta\")\n",
    "print(f\"共读取序列数: {len(sequences)}\")\n"
   ]
  },
  {
   "cell_type": "markdown",
   "id": "a6664354",
   "metadata": {},
   "source": [
    "## 📊 序列长度分布"
   ]
  },
  {
   "cell_type": "code",
   "execution_count": null,
   "id": "2afaee3a",
   "metadata": {},
   "outputs": [],
   "source": [
    "\n",
    "lengths = [len(s) for s in sequences]\n",
    "plt.figure(figsize=(8, 4))\n",
    "plt.hist(lengths, bins=20, color='cornflowerblue', edgecolor='black')\n",
    "plt.title(\"序列长度分布（去除填充符号 '-'）\")\n",
    "plt.xlabel(\"长度\")\n",
    "plt.ylabel(\"数量\")\n",
    "plt.grid(True)\n",
    "plt.tight_layout()\n",
    "plt.show()\n"
   ]
  },
  {
   "cell_type": "markdown",
   "id": "7efe1895",
   "metadata": {},
   "source": [
    "## 🔤 氨基酸频率分布"
   ]
  },
  {
   "cell_type": "code",
   "execution_count": null,
   "id": "76614340",
   "metadata": {},
   "outputs": [],
   "source": [
    "\n",
    "aa_counter = Counter(\"\".join(sequences))\n",
    "aa_freq_sorted = dict(sorted(aa_counter.items()))\n",
    "\n",
    "plt.figure(figsize=(10, 4))\n",
    "plt.bar(aa_freq_sorted.keys(), aa_freq_sorted.values(), color='salmon')\n",
    "plt.title(\"氨基酸频率分布\")\n",
    "plt.xlabel(\"氨基酸\")\n",
    "plt.ylabel(\"出现次数\")\n",
    "plt.grid(True)\n",
    "plt.tight_layout()\n",
    "plt.show()\n"
   ]
  },
  {
   "cell_type": "markdown",
   "id": "df3e3dd1",
   "metadata": {},
   "source": [
    "## ✅ 关键残基统计\n",
    "我们检查生成序列是否在以下位置具有指定氨基酸：T114, F123, A220, M248, A317"
   ]
  },
  {
   "cell_type": "code",
   "execution_count": null,
   "id": "fb2b75a8",
   "metadata": {},
   "outputs": [],
   "source": [
    "\n",
    "# 定义关键残基（假设这些位置固定）\n",
    "key_positions = [113, 122, 219, 247, 316]\n",
    "key_amino_acids = ['T', 'F', 'A', 'M', 'A']\n",
    "\n",
    "def check_key_residues(seq):\n",
    "    return all(seq[pos] == aa for pos, aa in zip(key_positions, key_amino_acids) if pos < len(seq))\n",
    "\n",
    "valid_count = sum(check_key_residues(seq) for seq in sequences)\n",
    "print(f\"关键残基完全匹配的序列数: {valid_count} / {len(sequences)}\")\n",
    "print(f\"匹配率: {valid_count / len(sequences) * 100:.2f}%\")\n"
   ]
  },
  {
   "cell_type": "markdown",
   "id": "77f8c05b",
   "metadata": {},
   "source": [
    "## 🌐 t-SNE 聚类可视化\n",
    "对蛋白序列进行one-hot编码后降维，展示分布情况"
   ]
  },
  {
   "cell_type": "code",
   "execution_count": null,
   "id": "1eb83654",
   "metadata": {},
   "outputs": [],
   "source": [
    "\n",
    "# 氨基酸索引\n",
    "AA = 'ACDEFGHIKLMNPQRSTVWY'\n",
    "aa2idx = {aa: i for i, aa in enumerate(AA)}\n",
    "\n",
    "def encode_sequence(seq, max_len=100):\n",
    "    vec = np.zeros((max_len, len(AA)))\n",
    "    for i, aa in enumerate(seq[:max_len]):\n",
    "        if aa in aa2idx:\n",
    "            vec[i, aa2idx[aa]] = 1\n",
    "    return vec.flatten()\n",
    "\n",
    "X = np.array([encode_sequence(seq) for seq in sequences])\n",
    "X_embedded = TSNE(n_components=2, random_state=42, perplexity=30).fit_transform(X)\n",
    "\n",
    "plt.figure(figsize=(6,6))\n",
    "sns.scatterplot(x=X_embedded[:,0], y=X_embedded[:,1])\n",
    "plt.title(\"t-SNE 蛋白序列聚类可视化\")\n",
    "plt.xlabel(\"t-SNE 1\")\n",
    "plt.ylabel(\"t-SNE 2\")\n",
    "plt.grid(True)\n",
    "plt.show()\n"
   ]
  },
  {
   "cell_type": "markdown",
   "id": "22bebd16",
   "metadata": {},
   "source": [
    "## 🧬 比对示意（生成序列 vs 假设F6H参考序列）"
   ]
  },
  {
   "cell_type": "code",
   "execution_count": null,
   "id": "3d45fb1b",
   "metadata": {},
   "outputs": [],
   "source": [
    "\n",
    "ref = sequences[0]\n",
    "for i in range(1, 4):\n",
    "    test = sequences[i]\n",
    "    print(f\"--- 比对: 序列 {i} vs 参考 ---\")\n",
    "    print(\"参考: \", ref[:80])\n",
    "    print(\"生成: \", test[:80])\n",
    "    match = \"\".join([\"|\" if ref[j] == test[j] else \".\" for j in range(min(len(ref), len(test), 80))])\n",
    "    print(\"匹配: \", match)\n",
    "    print()\n"
   ]
  }
 ],
 "metadata": {},
 "nbformat": 4,
 "nbformat_minor": 5
}
