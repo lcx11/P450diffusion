{
 "cells": [
  {
   "cell_type": "markdown",
   "id": "a5839554",
   "metadata": {},
   "source": [
    "# P450Diffusion Paddle 实现\n",
    "本Notebook复现了P450Diffusion扩散模型用于P450蛋白序列设计的过程，基于PaddlePaddle框架实现。"
   ]
  },
  {
   "cell_type": "markdown",
   "id": "bc1058f9",
   "metadata": {},
   "source": [
    "## 环境准备\n",
    "安装所需的Python依赖包，包括PaddlePaddle和BioPython。"
   ]
  },
  {
   "cell_type": "code",
   "execution_count": null,
   "id": "5c847279",
   "metadata": {},
   "outputs": [],
   "source": [
    "!pip install paddlepaddle biopython"
   ]
  },
  {
   "cell_type": "markdown",
   "id": "dbe4e7b6",
   "metadata": {},
   "source": [
    "## 数据预处理\n",
    "从FASTA文件中加载蛋白质序列，并将其转化为整数索引形式，以便输入模型。"
   ]
  },
  {
   "cell_type": "code",
   "execution_count": null,
   "id": "3a3a5e85",
   "metadata": {},
   "outputs": [],
   "source": [
    "import paddle\n",
    "import numpy as np\n",
    "from Bio import SeqIO\n",
    "\n",
    "AA = 'ACDEFGHIKLMNPQRSTVWY'\n",
    "aa2idx = {a: i+1 for i, a in enumerate(AA)}\n",
    "aa2idx['-'] = 0\n",
    "\n",
    "def load_fasta(path, max_len=500):\n",
    "    seqs = []\n",
    "    for rec in SeqIO.parse(path, 'fasta'):\n",
    "        s = str(rec.seq)\n",
    "        idx = [aa2idx.get(a, 0) for a in s[:max_len]]\n",
    "        idx += [0] * (max_len - len(idx))\n",
    "        seqs.append(idx)\n",
    "    return np.array(seqs, dtype='int64')\n",
    "\n",
    "# 示例数据路径（需要用户替换）\n",
    "# train_seqs = load_fasta('p450_complete.fasta')\n",
    "# ft_seqs = load_fasta('p450_F6H_subset.fasta')\n"
   ]
  },
  {
   "cell_type": "markdown",
   "id": "eed31f88",
   "metadata": {},
   "source": [
    "## 模型定义\n",
    "定义基于Transformer的扩散模型结构，包括序列嵌入、时间步嵌入与输出投影模块。"
   ]
  },
  {
   "cell_type": "code",
   "execution_count": null,
   "id": "6b6eff58",
   "metadata": {},
   "outputs": [],
   "source": [
    "import paddle.nn as nn\n",
    "\n",
    "class DiffusionModel(nn.Layer):\n",
    "    def __init__(self, vocab_size=21, emb_size=128, hidden_size=256, n_layers=4):\n",
    "        super().__init__()\n",
    "        self.embed = nn.Embedding(vocab_size, emb_size, padding_idx=0)\n",
    "        encoder_layer = nn.TransformerEncoderLayer(\n",
    "            d_model=emb_size, nhead=4, dim_feedforward=hidden_size)\n",
    "        self.transformer = nn.TransformerEncoder(encoder_layer, num_layers=n_layers)\n",
    "        self.time_emb = nn.Sequential(\n",
    "            nn.Linear(1, emb_size),\n",
    "            nn.ReLU(),\n",
    "            nn.Linear(emb_size, emb_size))\n",
    "        self.proj = nn.Linear(emb_size, vocab_size)\n",
    "\n",
    "    def forward(self, x, t):\n",
    "        emb = self.embed(x)\n",
    "        te = self.time_emb(t[:, None])[:, None, :]\n",
    "        h = emb + te\n",
    "        h = h.transpose([1, 0, 2])\n",
    "        h = self.transformer(h)\n",
    "        h = h.transpose([1, 0, 2])\n",
    "        logits = self.proj(h)\n",
    "        return logits\n"
   ]
  },
  {
   "cell_type": "markdown",
   "id": "bdd14565",
   "metadata": {},
   "source": [
    "## 训练过程\n",
    "定义正向扩散过程与训练损失函数，执行模型预训练与微调流程。"
   ]
  },
  {
   "cell_type": "code",
   "execution_count": null,
   "id": "46500979",
   "metadata": {},
   "outputs": [],
   "source": [
    "import paddle.optimizer as optim\n",
    "from paddle.nn.functional import cross_entropy\n",
    "\n",
    "model = DiffusionModel()\n",
    "optimizer = optim.Adam(parameters=model.parameters(), learning_rate=1e-4)\n",
    "\n",
    "def q_noise(x0, t):\n",
    "    noise = paddle.randn(x0.shape, dtype='float32')\n",
    "    return (1 - t) * x0 + t * noise\n",
    "\n",
    "def train_epoch(data, model, optimizer, batch_size=32):\n",
    "    model.train()\n",
    "    total_loss = 0\n",
    "    for i in range(0, len(data), batch_size):\n",
    "        batch = paddle.to_tensor(data[i:i+batch_size], dtype='int64')\n",
    "        t = paddle.rand([batch.shape[0]]).astype('float32')\n",
    "        x0 = nn.functional.one_hot(batch, num_classes=21).astype('float32')\n",
    "        xt = q_noise(x0, t)\n",
    "        logits = model(batch, t)\n",
    "        loss = cross_entropy(logits.reshape([-1,21]), batch.flatten())\n",
    "        loss.backward()\n",
    "        optimizer.step()\n",
    "        optimizer.clear_grad()\n",
    "        total_loss += loss.numpy()[0]\n",
    "    return total_loss / (len(data) / batch_size)\n"
   ]
  },
  {
   "cell_type": "markdown",
   "id": "a6223a2b",
   "metadata": {},
   "source": [
    "## 微调训练：固定关键位点\n",
    "通过mask避免5个关键位点的噪声扰动，实现知识约束生成。"
   ]
  },
  {
   "cell_type": "code",
   "execution_count": null,
   "id": "39e0995f",
   "metadata": {},
   "outputs": [],
   "source": [
    "fixed_pos = [113, 122, 219, 247, 316]\n",
    "fixed_aa = [aa2idx[a] for a in ['T','F','A','M','A']]\n",
    "\n",
    "def mask_loss(logits, tgt):\n",
    "    logits_ = logits.clone()\n",
    "    for pos, aa in zip(fixed_pos, fixed_aa):\n",
    "        logits_[:, pos, :] = -1e9\n",
    "    return cross_entropy(logits_.reshape([-1,21]), tgt.flatten())\n"
   ]
  },
  {
   "cell_type": "markdown",
   "id": "fccbd1c2",
   "metadata": {},
   "source": [
    "## 生成新序列\n",
    "从随机噪声出发，利用微调后的模型进行序列采样生成。"
   ]
  },
  {
   "cell_type": "code",
   "execution_count": null,
   "id": "2440b3f3",
   "metadata": {},
   "outputs": [],
   "source": [
    "def sample(model, seq_len=500, steps=50):\n",
    "    model.eval()\n",
    "    x = paddle.randn([1, seq_len, 21])\n",
    "    for i in range(steps, 0, -1):\n",
    "        t = paddle.full([1], i / steps, dtype='float32')\n",
    "        logits = model(x.argmax(axis=-1), t)\n",
    "        x = paddle.nn.functional.one_hot(logits.argmax(axis=-1), num_classes=21).astype('float32')\n",
    "    seq = x.numpy().argmax(axis=-1)[0]\n",
    "    return ''.join([AA[i - 1] if i > 0 else '-' for i in seq])\n",
    "\n",
    "# print(\"生成序列样例：\", sample(model))\n"
   ]
  },
  {
   "cell_type": "markdown",
   "id": "c5c73fe3",
   "metadata": {},
   "source": [
    "## 序列分析与可视化（建议）\n",
    "统计生成序列中关键位点是否匹配，绘制序列保守性logo或相似性分布图。"
   ]
  }
 ],
 "metadata": {
  "kernelspec": {
   "display_name": "Python 3 (ipykernel)",
   "language": "python",
   "name": "python3"
  },
  "language_info": {
   "codemirror_mode": {
    "name": "ipython",
    "version": 3
   },
   "file_extension": ".py",
   "mimetype": "text/x-python",
   "name": "python",
   "nbconvert_exporter": "python",
   "pygments_lexer": "ipython3",
   "version": "3.9.7"
  }
 },
 "nbformat": 4,
 "nbformat_minor": 5
}
